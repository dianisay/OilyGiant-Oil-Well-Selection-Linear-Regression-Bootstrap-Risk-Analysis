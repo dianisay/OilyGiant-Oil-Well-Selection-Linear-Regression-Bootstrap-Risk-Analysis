{
 "cells": [
  {
   "cell_type": "markdown",
   "metadata": {},
   "source": [
    "Hola **Diana**!\n",
    "\n",
    "Soy **Patricio Requena** 👋. Es un placer ser el revisor de tu proyecto el día de hoy!\n",
    "\n",
    "Revisaré tu proyecto detenidamente con el objetivo de ayudarte a mejorar y perfeccionar tus habilidades. Durante mi revisión, identificaré áreas donde puedas hacer mejoras en tu código, señalando específicamente qué y cómo podrías ajustar para optimizar el rendimiento y la claridad de tu proyecto. Además, es importante para mí destacar los aspectos que has manejado excepcionalmente bien. Reconocer tus fortalezas te ayudará a entender qué técnicas y métodos están funcionando a tu favor y cómo puedes aplicarlos en futuras tareas. \n",
    "\n",
    "_**Recuerda que al final de este notebook encontrarás un comentario general de mi parte**_, empecemos!\n",
    "\n",
    "Encontrarás mis comentarios dentro de cajas verdes, amarillas o rojas, ⚠️ **por favor, no muevas, modifiques o borres mis comentarios** ⚠️:\n",
    "\n",
    "\n",
    "<div class=\"alert alert-block alert-success\">\n",
    "<b>Comentario del revisor</b> <a class=“tocSkip”></a>\n",
    "Si todo está perfecto.\n",
    "</div>\n",
    "\n",
    "<div class=\"alert alert-block alert-warning\">\n",
    "<b>Comentario del revisor</b> <a class=“tocSkip”></a>\n",
    "Si tu código está bien pero se puede mejorar o hay algún detalle que le hace falta.\n",
    "</div>\n",
    "\n",
    "<div class=\"alert alert-block alert-danger\">\n",
    "<b>Comentario del revisor</b> <a class=“tocSkip”></a>\n",
    "Si de pronto hace falta algo o existe algún problema con tu código o conclusiones.\n",
    "</div>\n",
    "\n",
    "Puedes responderme de esta forma:\n",
    "<div class=\"alert alert-block alert-info\">\n",
    "<b>Respuesta del estudiante</b> <a class=“tocSkip”></a>\n"
   ]
  },
  {
   "cell_type": "markdown",
   "metadata": {},
   "source": [
    "# Churn prediction project for Beta Bank\n",
    "## End-to-end: load data, prepare, baseline, imbalance handling, model selection, final test.\n",
    "The code will display key tables/plots and save a short metrics report and the chosen model.\n",
    "\n",
    "## 1. Importación de librerías"
   ]
  },
  {
   "cell_type": "code",
   "execution_count": 32,
   "metadata": {},
   "outputs": [],
   "source": [
    "import pandas as pd\n",
    "import numpy as np\n",
    "import matplotlib.pyplot as plt\n",
    "import seaborn as sns\n",
    "\n",
    "from sklearn.model_selection import train_test_split\n",
    "from sklearn.preprocessing import StandardScaler, OrdinalEncoder\n",
    "from sklearn.linear_model import LogisticRegression\n",
    "from sklearn.ensemble import RandomForestClassifier\n",
    "from sklearn.metrics import (f1_score, roc_auc_score, roc_curve, confusion_matrix,\n",
    "                             classification_report, precision_score, recall_score)\n",
    "from sklearn.utils import shuffle\n",
    "\n",
    "import warnings\n",
    "warnings.filterwarnings('ignore')"
   ]
  },
  {
   "cell_type": "markdown",
   "metadata": {},
   "source": [
    "## 2. Carga y exploración inicial de datos"
   ]
  },
  {
   "cell_type": "code",
   "execution_count": 33,
   "metadata": {},
   "outputs": [
    {
     "name": "stdout",
     "output_type": "stream",
     "text": [
      "Vista inicial de los datos:\n"
     ]
    },
    {
     "data": {
      "text/html": [
       "<div>\n",
       "<style scoped>\n",
       "    .dataframe tbody tr th:only-of-type {\n",
       "        vertical-align: middle;\n",
       "    }\n",
       "\n",
       "    .dataframe tbody tr th {\n",
       "        vertical-align: top;\n",
       "    }\n",
       "\n",
       "    .dataframe thead th {\n",
       "        text-align: right;\n",
       "    }\n",
       "</style>\n",
       "<table border=\"1\" class=\"dataframe\">\n",
       "  <thead>\n",
       "    <tr style=\"text-align: right;\">\n",
       "      <th></th>\n",
       "      <th>RowNumber</th>\n",
       "      <th>CustomerId</th>\n",
       "      <th>Surname</th>\n",
       "      <th>CreditScore</th>\n",
       "      <th>Geography</th>\n",
       "      <th>Gender</th>\n",
       "      <th>Age</th>\n",
       "      <th>Tenure</th>\n",
       "      <th>Balance</th>\n",
       "      <th>NumOfProducts</th>\n",
       "      <th>HasCrCard</th>\n",
       "      <th>IsActiveMember</th>\n",
       "      <th>EstimatedSalary</th>\n",
       "      <th>Exited</th>\n",
       "    </tr>\n",
       "  </thead>\n",
       "  <tbody>\n",
       "    <tr>\n",
       "      <th>0</th>\n",
       "      <td>1</td>\n",
       "      <td>15634602</td>\n",
       "      <td>Hargrave</td>\n",
       "      <td>619</td>\n",
       "      <td>France</td>\n",
       "      <td>Female</td>\n",
       "      <td>42</td>\n",
       "      <td>2.0</td>\n",
       "      <td>0.00</td>\n",
       "      <td>1</td>\n",
       "      <td>1</td>\n",
       "      <td>1</td>\n",
       "      <td>101348.88</td>\n",
       "      <td>1</td>\n",
       "    </tr>\n",
       "    <tr>\n",
       "      <th>1</th>\n",
       "      <td>2</td>\n",
       "      <td>15647311</td>\n",
       "      <td>Hill</td>\n",
       "      <td>608</td>\n",
       "      <td>Spain</td>\n",
       "      <td>Female</td>\n",
       "      <td>41</td>\n",
       "      <td>1.0</td>\n",
       "      <td>83807.86</td>\n",
       "      <td>1</td>\n",
       "      <td>0</td>\n",
       "      <td>1</td>\n",
       "      <td>112542.58</td>\n",
       "      <td>0</td>\n",
       "    </tr>\n",
       "    <tr>\n",
       "      <th>2</th>\n",
       "      <td>3</td>\n",
       "      <td>15619304</td>\n",
       "      <td>Onio</td>\n",
       "      <td>502</td>\n",
       "      <td>France</td>\n",
       "      <td>Female</td>\n",
       "      <td>42</td>\n",
       "      <td>8.0</td>\n",
       "      <td>159660.80</td>\n",
       "      <td>3</td>\n",
       "      <td>1</td>\n",
       "      <td>0</td>\n",
       "      <td>113931.57</td>\n",
       "      <td>1</td>\n",
       "    </tr>\n",
       "    <tr>\n",
       "      <th>3</th>\n",
       "      <td>4</td>\n",
       "      <td>15701354</td>\n",
       "      <td>Boni</td>\n",
       "      <td>699</td>\n",
       "      <td>France</td>\n",
       "      <td>Female</td>\n",
       "      <td>39</td>\n",
       "      <td>1.0</td>\n",
       "      <td>0.00</td>\n",
       "      <td>2</td>\n",
       "      <td>0</td>\n",
       "      <td>0</td>\n",
       "      <td>93826.63</td>\n",
       "      <td>0</td>\n",
       "    </tr>\n",
       "    <tr>\n",
       "      <th>4</th>\n",
       "      <td>5</td>\n",
       "      <td>15737888</td>\n",
       "      <td>Mitchell</td>\n",
       "      <td>850</td>\n",
       "      <td>Spain</td>\n",
       "      <td>Female</td>\n",
       "      <td>43</td>\n",
       "      <td>2.0</td>\n",
       "      <td>125510.82</td>\n",
       "      <td>1</td>\n",
       "      <td>1</td>\n",
       "      <td>1</td>\n",
       "      <td>79084.10</td>\n",
       "      <td>0</td>\n",
       "    </tr>\n",
       "  </tbody>\n",
       "</table>\n",
       "</div>"
      ],
      "text/plain": [
       "   RowNumber  CustomerId   Surname  CreditScore Geography  Gender  Age  \\\n",
       "0          1    15634602  Hargrave          619    France  Female   42   \n",
       "1          2    15647311      Hill          608     Spain  Female   41   \n",
       "2          3    15619304      Onio          502    France  Female   42   \n",
       "3          4    15701354      Boni          699    France  Female   39   \n",
       "4          5    15737888  Mitchell          850     Spain  Female   43   \n",
       "\n",
       "   Tenure    Balance  NumOfProducts  HasCrCard  IsActiveMember  \\\n",
       "0     2.0       0.00              1          1               1   \n",
       "1     1.0   83807.86              1          0               1   \n",
       "2     8.0  159660.80              3          1               0   \n",
       "3     1.0       0.00              2          0               0   \n",
       "4     2.0  125510.82              1          1               1   \n",
       "\n",
       "   EstimatedSalary  Exited  \n",
       "0        101348.88       1  \n",
       "1        112542.58       0  \n",
       "2        113931.57       1  \n",
       "3         93826.63       0  \n",
       "4         79084.10       0  "
      ]
     },
     "metadata": {},
     "output_type": "display_data"
    },
    {
     "name": "stdout",
     "output_type": "stream",
     "text": [
      "\n",
      "Información general:\n",
      "<class 'pandas.core.frame.DataFrame'>\n",
      "RangeIndex: 10000 entries, 0 to 9999\n",
      "Data columns (total 14 columns):\n",
      " #   Column           Non-Null Count  Dtype  \n",
      "---  ------           --------------  -----  \n",
      " 0   RowNumber        10000 non-null  int64  \n",
      " 1   CustomerId       10000 non-null  int64  \n",
      " 2   Surname          10000 non-null  object \n",
      " 3   CreditScore      10000 non-null  int64  \n",
      " 4   Geography        10000 non-null  object \n",
      " 5   Gender           10000 non-null  object \n",
      " 6   Age              10000 non-null  int64  \n",
      " 7   Tenure           9091 non-null   float64\n",
      " 8   Balance          10000 non-null  float64\n",
      " 9   NumOfProducts    10000 non-null  int64  \n",
      " 10  HasCrCard        10000 non-null  int64  \n",
      " 11  IsActiveMember   10000 non-null  int64  \n",
      " 12  EstimatedSalary  10000 non-null  float64\n",
      " 13  Exited           10000 non-null  int64  \n",
      "dtypes: float64(3), int64(8), object(3)\n",
      "memory usage: 1.1+ MB\n",
      "\n",
      "Valores nulos por columna:\n",
      "RowNumber            0\n",
      "CustomerId           0\n",
      "Surname              0\n",
      "CreditScore          0\n",
      "Geography            0\n",
      "Gender               0\n",
      "Age                  0\n",
      "Tenure             909\n",
      "Balance              0\n",
      "NumOfProducts        0\n",
      "HasCrCard            0\n",
      "IsActiveMember       0\n",
      "EstimatedSalary      0\n",
      "Exited               0\n",
      "dtype: int64\n"
     ]
    }
   ],
   "source": [
    "df = pd.read_csv('/datasets/Churn.csv')\n",
    "print(\"Vista inicial de los datos:\")\n",
    "display(df.head())\n",
    "print(\"\\nInformación general:\")\n",
    "df.info()\n",
    "print(\"\\nValores nulos por columna:\")\n",
    "print(df.isna().sum())"
   ]
  },
  {
   "cell_type": "markdown",
   "metadata": {},
   "source": [
    "## 3. Preparación de datos"
   ]
  },
  {
   "cell_type": "code",
   "execution_count": 34,
   "metadata": {},
   "outputs": [
    {
     "name": "stdout",
     "output_type": "stream",
     "text": [
      "Conjuntos: Entrenamiento=6000, Validación=2000, Prueba=2000\n"
     ]
    }
   ],
   "source": [
    "# Eliminamos columnas irrelevantes para el modelo:\n",
    "# - RowNumber, CustomerId y Surname no aportan información predictiva.\n",
    "df = df.drop(['RowNumber', 'CustomerId', 'Surname'], axis=1)\n",
    "\n",
    "# Codificación de variables categóricas\n",
    "# Geography y Gender son categóricas -> One-hot encoding\n",
    "df = pd.get_dummies(df, drop_first=True)  # drop_first evita la trampa de variables ficticias\n",
    "\n",
    "# Separar características y objetivo\n",
    "X = df.drop('Exited', axis=1)\n",
    "y = df['Exited']\n",
    "\n",
    "# División en entrenamiento, validación y prueba\n",
    "X_train, X_temp, y_train, y_temp = train_test_split(X, y, test_size=0.4, random_state=12345, stratify=y)\n",
    "X_valid, X_test, y_valid, y_test = train_test_split(X_temp, y_temp, test_size=0.5, random_state=12345, stratify=y_temp)\n",
    "\n",
    "print(f\"Conjuntos: Entrenamiento={X_train.shape[0]}, Validación={X_valid.shape[0]}, Prueba={X_test.shape[0]}\")\n",
    "\n",
    "# Escalado de datos (mejora rendimiento de modelos basados en distancias y gradiente)\n",
    "scaler = StandardScaler()\n",
    "X_train = scaler.fit_transform(X_train)\n",
    "X_valid = scaler.transform(X_valid)\n",
    "X_test = scaler.transform(X_test)"
   ]
  },
  {
   "cell_type": "markdown",
   "metadata": {},
   "source": [
    "<div class=\"alert alert-block alert-success\">\n",
    "<b>Comentario del revisor (1ra Iteracion)</b> <a class=“tocSkip”></a>\n",
    "\n",
    "Bien, ahora tienes los datos listos para el entrenamiento y evaluación de manera adecuada\n",
    "</div>"
   ]
  },
  {
   "cell_type": "code",
   "execution_count": 78,
   "metadata": {},
   "outputs": [
    {
     "name": "stdout",
     "output_type": "stream",
     "text": [
      "NaN en X_train después de limpiar: 0\n",
      "NaN en X_valid después de limpiar: 0\n",
      "NaN en X_test después de limpiar: 0\n",
      "NaN en X_temp después de limpiar: 0\n"
     ]
    }
   ],
   "source": [
    "from sklearn.impute import SimpleImputer\n",
    "import numpy as np\n",
    "\n",
    "# --- Imputación ---\n",
    "imputer = SimpleImputer(strategy='mean')\n",
    "\n",
    "# Ajustar e imputar en entrenamiento\n",
    "X_train_clean = imputer.fit_transform(X_train)\n",
    "\n",
    "# Imputar en validación, prueba y temp usando los parámetros aprendidos en train\n",
    "X_valid_clean = imputer.transform(X_valid)\n",
    "X_test_clean = imputer.transform(X_test)\n",
    "X_temp_clean = imputer.transform(X_temp)\n",
    "\n",
    "# Verificación de valores NaN\n",
    "print(\"NaN en X_train después de limpiar:\", np.isnan(X_train_clean).sum())\n",
    "print(\"NaN en X_valid después de limpiar:\", np.isnan(X_valid_clean).sum())\n",
    "print(\"NaN en X_test después de limpiar:\", np.isnan(X_test_clean).sum())\n",
    "print(\"NaN en X_temp después de limpiar:\", np.isnan(X_temp_clean).sum())\n"
   ]
  },
  {
   "cell_type": "markdown",
   "metadata": {},
   "source": [
    "## 4. Análisis de balance de clases"
   ]
  },
  {
   "cell_type": "code",
   "execution_count": 63,
   "metadata": {},
   "outputs": [
    {
     "name": "stdout",
     "output_type": "stream",
     "text": [
      "\n",
      "Proporción de clases:\n",
      "0    0.7963\n",
      "1    0.2037\n",
      "Name: Exited, dtype: float64\n"
     ]
    },
    {
     "data": {
      "image/png": "[encoded data removed]",
      "text/plain": [
       "<Figure size 500x400 with 1 Axes>"
      ]
     },
     "metadata": {},
     "output_type": "display_data"
    }
   ],
   "source": [
    "class_counts = y.value_counts(normalize=True)\n",
    "print(\"\\nProporción de clases:\")\n",
    "print(class_counts)\n",
    "\n",
    "plt.figure(figsize=(5,4))\n",
    "sns.countplot(x=y)\n",
    "plt.title('Distribución de clases')\n",
    "plt.xlabel('Exited (0=No, 1=Sí)')\n",
    "plt.ylabel('Cantidad')\n",
    "plt.show()\n",
    "\n",
    "# Comentario:\n",
    "# Si la proporción de 1s (clientes que se van) es mucho menor que la de 0s, el dataset está desbalanceado.\n",
    "# Esto puede hacer que los modelos tiendan a predecir siempre la clase mayoritaria."
   ]
  },
  {
   "cell_type": "markdown",
   "metadata": {},
   "source": [
    "<div class=\"alert alert-block alert-success\">\n",
    "<b>Comentario del revisor (1ra Iteracion)</b> <a class=“tocSkip”></a>\n",
    "\n",
    "Correcto! Siempre en proyectos de clasificación utilizando Machine Learning hay que revisar el balance de las clases ya que de esto dependerá las técnicas a aplicar o los modelos a utilizar para conseguir un buen desempeño en las predicciones\n",
    "</div>"
   ]
  },
  {
   "cell_type": "markdown",
   "metadata": {},
   "source": [
    "## 8. Selección del mejor modelo"
   ]
  },
  {
   "cell_type": "code",
   "execution_count": 75,
   "metadata": {},
   "outputs": [
    {
     "name": "stdout",
     "output_type": "stream",
     "text": [
      "\n",
      "Resultados Comparativos:\n",
      "                         F1   AUC-ROC\n",
      "LogReg Baseline    0.310786  0.787441\n",
      "LogReg Balanced    0.528070  0.793657\n",
      "LogReg Upsampling  0.524675  0.793750\n",
      "RF Baseline        0.608955  0.866459\n",
      "RF Balanced        0.586626  0.863121\n",
      "RF Upsampling      0.611921  0.864784\n",
      "\n",
      "Mejor modelo según F1 Score: RF Upsampling (F1=0.6119)\n",
      "Mejor modelo según AUC-ROC: RF Baseline (AUC=0.8665)\n",
      "\n",
      "Modelo ganador según F1: RF Upsampling\n"
     ]
    }
   ],
   "source": [
    "from sklearn.linear_model import LogisticRegression\n",
    "from sklearn.ensemble import RandomForestClassifier\n",
    "from sklearn.metrics import f1_score, roc_auc_score\n",
    "from sklearn.utils import shuffle\n",
    "import pandas as pd\n",
    "\n",
    "# --- Función de Upsampling ---\n",
    "def upsample(features, target, repeat):\n",
    "    features_0 = features[target == 0]\n",
    "    features_1 = features[target == 1]\n",
    "    target_0 = target[target == 0]\n",
    "    target_1 = target[target == 1]\n",
    "    \n",
    "    features_upsampled = pd.concat([features_0] + [features_1] * repeat, ignore_index=True)\n",
    "    target_upsampled = pd.concat([target_0] + [target_1] * repeat, ignore_index=True)\n",
    "    \n",
    "    return shuffle(features_upsampled, target_upsampled, random_state=12345)\n",
    "\n",
    "# Convertir datos a DataFrame/Series\n",
    "X_train_clean_df = pd.DataFrame(X_train_clean).reset_index(drop=True)\n",
    "y_train_series = pd.Series(y_train).reset_index(drop=True)\n",
    "\n",
    "# --- Lista de experimentos ---\n",
    "experimentos = []\n",
    "\n",
    "# 1. Logistic Regression - Baseline\n",
    "experimentos.append((\"LogReg Baseline\",\n",
    "    LogisticRegression(random_state=12345),\n",
    "    X_train_clean_df, y_train_series))\n",
    "\n",
    "# 2. Logistic Regression - Balanced\n",
    "experimentos.append((\"LogReg Balanced\",\n",
    "    LogisticRegression(class_weight='balanced', random_state=12345),\n",
    "    X_train_clean_df, y_train_series))\n",
    "\n",
    "# 3. Logistic Regression - Upsampling\n",
    "X_up, y_up = upsample(X_train_clean_df, y_train_series, repeat=4)\n",
    "experimentos.append((\"LogReg Upsampling\",\n",
    "    LogisticRegression(random_state=12345),\n",
    "    X_up, y_up))\n",
    "\n",
    "# 4. Random Forest - Baseline\n",
    "experimentos.append((\"RF Baseline\",\n",
    "    RandomForestClassifier(random_state=12345),\n",
    "    X_train_clean_df, y_train_series))\n",
    "\n",
    "# 5. Random Forest - Balanced\n",
    "experimentos.append((\"RF Balanced\",\n",
    "    RandomForestClassifier(class_weight='balanced', random_state=12345),\n",
    "    X_train_clean_df, y_train_series))\n",
    "\n",
    "# 6. Random Forest - Upsampling\n",
    "X_up_rf, y_up_rf = upsample(X_train_clean_df, y_train_series, repeat=4)\n",
    "experimentos.append((\"RF Upsampling\",\n",
    "    RandomForestClassifier(random_state=12345),\n",
    "    X_up_rf, y_up_rf))\n",
    "\n",
    "# --- Evaluación de todos los modelos ---\n",
    "resultados = {}\n",
    "\n",
    "for nombre, modelo, X_train_data, y_train_data in experimentos:\n",
    "    modelo.fit(X_train_data, y_train_data)\n",
    "    preds = modelo.predict(X_valid_clean)\n",
    "    auc = roc_auc_score(y_valid, modelo.predict_proba(X_valid_clean)[:, 1])\n",
    "    f1 = f1_score(y_valid, preds)\n",
    "    resultados[nombre] = {\"F1\": f1, \"AUC-ROC\": auc}\n",
    "\n",
    "# --- Comparación ---\n",
    "df_resultados = pd.DataFrame(resultados).T\n",
    "print(\"\\nResultados Comparativos:\")\n",
    "print(df_resultados)\n",
    "\n",
    "# Mejores por métrica\n",
    "mejor_f1 = df_resultados['F1'].idxmax()\n",
    "mejor_auc = df_resultados['AUC-ROC'].idxmax()\n",
    "\n",
    "print(f\"\\nMejor modelo según F1 Score: {mejor_f1} (F1={df_resultados.loc[mejor_f1, 'F1']:.4f})\")\n",
    "print(f\"Mejor modelo según AUC-ROC: {mejor_auc} (AUC={df_resultados.loc[mejor_auc, 'AUC-ROC']:.4f})\")\n",
    "\n",
    "# Modelo ganador según prioridad\n",
    "metrica_prioritaria = \"F1\"  # cambiar a \"AUC-ROC\" si prefieres\n",
    "modelo_ganador = df_resultados[metrica_prioritaria].idxmax()\n",
    "print(f\"\\nModelo ganador según {metrica_prioritaria}: {modelo_ganador}\")\n"
   ]
  },
  {
   "cell_type": "markdown",
   "metadata": {},
   "source": [
    "<div class=\"alert alert-block alert-success\">\n",
    "<b>Comentario del revisor (1ra Iteracion)</b> <a class=“tocSkip”></a>\n",
    "\n",
    "Perfecto, técnicas cómo sobre-muestreo o sub-muestreo o la modificación de parámetros en algunos modelos para especificar el desbalance ayuda a los modelos a poder generalizar mejor cada caso y obtener un buen desempeño\n",
    "</div>"
   ]
  },
  {
   "cell_type": "markdown",
   "metadata": {},
   "source": [
    "Se evaluaron seis configuraciones combinando dos algoritmos de clasificación (Logistic Regression y Random Forest) con tres estrategias para el manejo del desbalance de clases: modelo base (sin balanceo), asignación de pesos mediante class_weight='balanced' y upsampling de la clase minoritaria. El desempeño se midió sobre el conjunto de validación empleando las métricas F1 Score y AUC-ROC.\n",
    "\n",
    "Los resultados se resumen en la Tabla X. El mayor F1 Score se obtuvo con el modelo Random Forest con upsampling (F1=0.6119), mientras que el mayor AUC-ROC correspondió al modelo Random Forest sin balanceo (AUC=0.8665).\n",
    "\n",
    "La elección del modelo óptimo depende de la métrica prioritaria para el problema. Dado que el objetivo es maximizar la detección de la clase minoritaria, se priorizó la métrica F1 Score, seleccionando como modelo final Random Forest con upsampling para la etapa de pruebas.\n",
    "\n",
    "## 9. Evaluación final en el conjunto de prueba\n",
    "\n",
    "El modelo evaluado alcanza una exactitud del 85% en el conjunto de prueba, mostrando un desempeño sólido en la clasificación de la clase mayoritaria (0) con alta precisión (0.87) y recall (0.96). Sin embargo, la clase minoritaria (1) resenta un recall limitado (0.43), lo que indica que el modelo aún pierde una proporción significativa de casos positivos. El f1-score ponderado (0.84) refleja un balance razonable entre precisión y recall considerando el desbalance de clases.\n",
    "\n",
    "En general, el modelo es confiable para la identificación de la clase negativa y ofrece un punto de partida sólido para la detección de la clase positiva."
   ]
  },
  {
   "cell_type": "code",
   "execution_count": 89,
   "metadata": {},
   "outputs": [
    {
     "name": "stdout",
     "output_type": "stream",
     "text": [
      "\n",
      "Matriz de Confusión:\n",
      "                  Predicción: 0     Predicción: 1     \n",
      "Real: 0           1523              70                \n",
      "Real: 1           230               177               \n",
      "\n",
      "Reporte de clasificación:\n",
      "              precision    recall  f1-score   support\n",
      "\n",
      "           0       0.87      0.96      0.91      1593\n",
      "           1       0.72      0.43      0.54       407\n",
      "\n",
      "    accuracy                           0.85      2000\n",
      "   macro avg       0.79      0.70      0.73      2000\n",
      "weighted avg       0.84      0.85      0.84      2000\n",
      "\n"
     ]
    },
    {
     "data": {
      "image/png": "[encoded data removed]",
      "text/plain": [
       "<Figure size 800x600 with 1 Axes>"
      ]
     },
     "metadata": {},
     "output_type": "display_data"
    }
   ],
   "source": [
    "from sklearn.metrics import confusion_matrix, classification_report, roc_curve\n",
    "import matplotlib.pyplot as plt\n",
    "\n",
    "# --- Evaluación final en el conjunto de prueba ---\n",
    "# Entrenar de nuevo el modelo ganador con todos los datos de entrenamiento (train + valid) si se desea\n",
    "# Aquí lo dejamos solo con train_clean para mantener consistencia con validación\n",
    "X_train_final = X_train_clean\n",
    "y_train_final = y_train\n",
    "\n",
    "modelo_final = RandomForestClassifier(random_state=12345)\n",
    "modelo_final.fit(X_train_final, y_train_final)\n",
    "\n",
    "# Predicciones en el conjunto de prueba\n",
    "preds_test = modelo_final.predict(X_test_clean)\n",
    "probas_test = modelo_final.predict_proba(X_test_clean)[:, 1]\n",
    "\n",
    "# --- Matriz de confusión ---\n",
    "cm = confusion_matrix(y_test, preds_test)\n",
    "labels = [\"Predicción: 0\", \"Predicción: 1\"]\n",
    "print(\"\\nMatriz de Confusión:\")\n",
    "print(f\"{'':<18}{labels[0]:<18}{labels[1]:<18}\")\n",
    "print(f\"{'Real: 0':<18}{cm[0][0]:<18}{cm[0][1]:<18}\")\n",
    "print(f\"{'Real: 1':<18}{cm[1][0]:<18}{cm[1][1]:<18}\")\n",
    "\n",
    "\n",
    "\n",
    "# --- Reporte de clasificación ---\n",
    "\n",
    "print(\"\\nReporte de clasificación:\")\n",
    "print(classification_report(y_test, preds_test))\n",
    "\n",
    "\n",
    "# --- Reporte de clasificación ---\n",
    "report = classification_report(y_test, preds_test, output_dict=True)\n",
    "\n",
    "# --- Curva ROC ---\n",
    "fpr, tpr, thresholds = roc_curve(y_test, probas_test)\n",
    "auc_test = roc_auc_score(y_test, probas_test)\n",
    "\n",
    "plt.figure(figsize=(8,6))\n",
    "plt.plot(fpr, tpr, label=f'ROC curve (AUC = {auc_test:.4f})')\n",
    "plt.plot([0, 1], [0, 1], 'k--', label='Línea aleatoria')\n",
    "plt.xlabel('Tasa de falsos positivos (FPR)')\n",
    "plt.ylabel('Tasa de verdaderos positivos (TPR)')\n",
    "plt.title('Curva ROC - Conjunto de prueba')\n",
    "plt.legend()\n",
    "plt.grid(True)\n",
    "plt.show()"
   ]
  },
  {
   "cell_type": "markdown",
   "metadata": {},
   "source": [
    "<div class=\"alert alert-block alert-success\">\n",
    "<b>Comentario del revisor (1ra Iteracion)</b> <a class=“tocSkip”></a>\n",
    "\n",
    "Te felicito por el trabajo realizado Diana, se nota que conoces las métricas de evaluación y planteas conclusiones muy acertadas en cuanto a los resultados. Es importante siempre en un problema de ML identificar el balance entre las clases de tu variable objetivo para poder escoger la métrica correcta ya que para datasets desbalanceados la métrica de accuracy suele presentar buenos valores pero en realidad las predicciones no son buenas y es por la forma en cómo se calcula esta métrica que puede llevar a interpretaciones erroneas en cambio el f1-score es la ideal para este tipo de casos ya que maneja mejor este tipo de problemas.\n",
    "    \n",
    "Saludos!\n",
    "</div>"
   ]
  }
 ],
 "metadata": {
  "kernelspec": {
   "display_name": "Python 3 (ipykernel)",
   "language": "python",
   "name": "python3"
  },
  "language_info": {
   "codemirror_mode": {
    "name": "ipython",
    "version": 3
   },
   "file_extension": ".py",
   "mimetype": "text/x-python",
   "name": "python",
   "nbconvert_exporter": "python",
   "pygments_lexer": "ipython3",
   "version": "3.9.23"
  }
 },
 "nbformat": 4,
 "nbformat_minor": 4
}
